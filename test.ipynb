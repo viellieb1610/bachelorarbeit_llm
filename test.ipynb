{
 "cells": [
  {
   "cell_type": "markdown",
   "metadata": {},
   "source": [
    "# Imports"
   ]
  },
  {
   "cell_type": "code",
   "execution_count": 16,
   "metadata": {},
   "outputs": [],
   "source": [
    "from ollama import chat, ChatResponse\n",
    "import pandas as pd\n",
    "from tqdm import tqdm"
   ]
  },
  {
   "cell_type": "markdown",
   "metadata": {},
   "source": [
    "# Data"
   ]
  },
  {
   "cell_type": "code",
   "execution_count": 18,
   "metadata": {},
   "outputs": [],
   "source": [
    "df = pd.read_csv(\"/home/philipp/Gdrive/2_Universität/Wirtschaftsinformatik/7. Semester/Bachelorarbeit (Bandwagon Effect)/Daten/RQ1/yelp_labeled_1k.csv\", nrows=100)"
   ]
  },
  {
   "cell_type": "code",
   "execution_count": 21,
   "metadata": {},
   "outputs": [
    {
     "data": {
      "text/html": [
       "<div>\n",
       "<style scoped>\n",
       "    .dataframe tbody tr th:only-of-type {\n",
       "        vertical-align: middle;\n",
       "    }\n",
       "\n",
       "    .dataframe tbody tr th {\n",
       "        vertical-align: top;\n",
       "    }\n",
       "\n",
       "    .dataframe thead th {\n",
       "        text-align: right;\n",
       "    }\n",
       "</style>\n",
       "<table border=\"1\" class=\"dataframe\">\n",
       "  <thead>\n",
       "    <tr style=\"text-align: right;\">\n",
       "      <th></th>\n",
       "      <th>index</th>\n",
       "      <th>date</th>\n",
       "      <th>user</th>\n",
       "      <th>item</th>\n",
       "      <th>review_rating</th>\n",
       "      <th>review_text</th>\n",
       "      <th>review_length</th>\n",
       "      <th>has_references</th>\n",
       "    </tr>\n",
       "  </thead>\n",
       "  <tbody>\n",
       "    <tr>\n",
       "      <th>95</th>\n",
       "      <td>3576033</td>\n",
       "      <td>2019-12-20</td>\n",
       "      <td>AZonGgh0-XMU-K-1R_ciyw</td>\n",
       "      <td>xo-taste-new-york</td>\n",
       "      <td>1.0</td>\n",
       "      <td>BEWARE of the TIP GUIDE!!! They manually write...</td>\n",
       "      <td>150</td>\n",
       "      <td>0</td>\n",
       "    </tr>\n",
       "    <tr>\n",
       "      <th>96</th>\n",
       "      <td>2739130</td>\n",
       "      <td>2017-08-02</td>\n",
       "      <td>o1coHGRdjByKhuxKFBz0yw</td>\n",
       "      <td>bombays-indian-restaurant-new-york</td>\n",
       "      <td>5.0</td>\n",
       "      <td>Food is great, friendly staff, and always able...</td>\n",
       "      <td>16</td>\n",
       "      <td>0</td>\n",
       "    </tr>\n",
       "    <tr>\n",
       "      <th>97</th>\n",
       "      <td>2960340</td>\n",
       "      <td>2018-03-04</td>\n",
       "      <td>J1pbAyUO-BFcVduEzu2cmw</td>\n",
       "      <td>the-archer-jersey-city-2</td>\n",
       "      <td>4.0</td>\n",
       "      <td>I&amp;#39;ve been here a couple of times and truly...</td>\n",
       "      <td>111</td>\n",
       "      <td>0</td>\n",
       "    </tr>\n",
       "    <tr>\n",
       "      <th>98</th>\n",
       "      <td>2207716</td>\n",
       "      <td>2016-04-07</td>\n",
       "      <td>bZFETqQ0reXJcAf1a8eEog</td>\n",
       "      <td>chung-moo-rollrice-and-dongas-flushing</td>\n",
       "      <td>3.0</td>\n",
       "      <td>3.5 stars We walked over here just so I could ...</td>\n",
       "      <td>159</td>\n",
       "      <td>0</td>\n",
       "    </tr>\n",
       "    <tr>\n",
       "      <th>99</th>\n",
       "      <td>510869</td>\n",
       "      <td>2011-10-20</td>\n",
       "      <td>6AVTnerXtz24jSD-rpLHLw</td>\n",
       "      <td>big-apple-chinese-and-japanese-restaurant-flus...</td>\n",
       "      <td>4.0</td>\n",
       "      <td>Great family own restaurant. I've enjoyed more...</td>\n",
       "      <td>124</td>\n",
       "      <td>0</td>\n",
       "    </tr>\n",
       "  </tbody>\n",
       "</table>\n",
       "</div>"
      ],
      "text/plain": [
       "      index        date                    user  \\\n",
       "95  3576033  2019-12-20  AZonGgh0-XMU-K-1R_ciyw   \n",
       "96  2739130  2017-08-02  o1coHGRdjByKhuxKFBz0yw   \n",
       "97  2960340  2018-03-04  J1pbAyUO-BFcVduEzu2cmw   \n",
       "98  2207716  2016-04-07  bZFETqQ0reXJcAf1a8eEog   \n",
       "99   510869  2011-10-20  6AVTnerXtz24jSD-rpLHLw   \n",
       "\n",
       "                                                 item  review_rating  \\\n",
       "95                                  xo-taste-new-york            1.0   \n",
       "96                 bombays-indian-restaurant-new-york            5.0   \n",
       "97                           the-archer-jersey-city-2            4.0   \n",
       "98             chung-moo-rollrice-and-dongas-flushing            3.0   \n",
       "99  big-apple-chinese-and-japanese-restaurant-flus...            4.0   \n",
       "\n",
       "                                          review_text  review_length  \\\n",
       "95  BEWARE of the TIP GUIDE!!! They manually write...            150   \n",
       "96  Food is great, friendly staff, and always able...             16   \n",
       "97  I&#39;ve been here a couple of times and truly...            111   \n",
       "98  3.5 stars We walked over here just so I could ...            159   \n",
       "99  Great family own restaurant. I've enjoyed more...            124   \n",
       "\n",
       "    has_references  \n",
       "95               0  \n",
       "96               0  \n",
       "97               0  \n",
       "98               0  \n",
       "99               0  "
      ]
     },
     "execution_count": 21,
     "metadata": {},
     "output_type": "execute_result"
    }
   ],
   "source": [
    "df.tail()"
   ]
  },
  {
   "cell_type": "code",
   "execution_count": 22,
   "metadata": {},
   "outputs": [
    {
     "data": {
      "text/html": [
       "<div>\n",
       "<style scoped>\n",
       "    .dataframe tbody tr th:only-of-type {\n",
       "        vertical-align: middle;\n",
       "    }\n",
       "\n",
       "    .dataframe tbody tr th {\n",
       "        vertical-align: top;\n",
       "    }\n",
       "\n",
       "    .dataframe thead th {\n",
       "        text-align: right;\n",
       "    }\n",
       "</style>\n",
       "<table border=\"1\" class=\"dataframe\">\n",
       "  <thead>\n",
       "    <tr style=\"text-align: right;\">\n",
       "      <th></th>\n",
       "      <th>review_text</th>\n",
       "      <th>has_references</th>\n",
       "    </tr>\n",
       "  </thead>\n",
       "  <tbody>\n",
       "    <tr>\n",
       "      <th>0</th>\n",
       "      <td>Tried take out since this is only 5 star sushi...</td>\n",
       "      <td>1</td>\n",
       "    </tr>\n",
       "    <tr>\n",
       "      <th>1</th>\n",
       "      <td>It&amp;#39;s very hard to beat brunch at High Stre...</td>\n",
       "      <td>0</td>\n",
       "    </tr>\n",
       "    <tr>\n",
       "      <th>2</th>\n",
       "      <td>Scale of 1-10: Food: 7 Service: 9 Atmosphere: ...</td>\n",
       "      <td>0</td>\n",
       "    </tr>\n",
       "    <tr>\n",
       "      <th>3</th>\n",
       "      <td>Went here on a lunch break.  It was 100 degree...</td>\n",
       "      <td>0</td>\n",
       "    </tr>\n",
       "    <tr>\n",
       "      <th>4</th>\n",
       "      <td>I got the chicken sandwich platter. Asked them...</td>\n",
       "      <td>0</td>\n",
       "    </tr>\n",
       "  </tbody>\n",
       "</table>\n",
       "</div>"
      ],
      "text/plain": [
       "                                         review_text  has_references\n",
       "0  Tried take out since this is only 5 star sushi...               1\n",
       "1  It&#39;s very hard to beat brunch at High Stre...               0\n",
       "2  Scale of 1-10: Food: 7 Service: 9 Atmosphere: ...               0\n",
       "3  Went here on a lunch break.  It was 100 degree...               0\n",
       "4  I got the chicken sandwich platter. Asked them...               0"
      ]
     },
     "execution_count": 22,
     "metadata": {},
     "output_type": "execute_result"
    }
   ],
   "source": [
    "review = df[['review_text','has_references']]\n",
    "review.head()"
   ]
  },
  {
   "cell_type": "markdown",
   "metadata": {},
   "source": [
    "# Model"
   ]
  },
  {
   "cell_type": "code",
   "execution_count": 11,
   "metadata": {},
   "outputs": [],
   "source": [
    "initial_prompt = \"\"\"Your task is to classify online consumer reviews from the food rating platform Yelp. If the review mentions or refers to other reviews, classify it as “Reference to other reviews”. Otherwise classify it as “No reference”. Notice that references to other sources than Yelp do not count as references.\n",
    "\n",
    "Examples:\n",
    "Input: “Tried take out since this is only 5 star sushi nearby on yelp so I was interested. Definitely good sushi and fresh so no complaints and had to join in with the other 5 star raters. Have some unique roll options that help it stand out from some other sushi places nearby.”\n",
    "Output: Reference to other reviews\n",
    "\n",
    "Input: “So we found this place through Yelp!  Amazing!! Stand up only. Super charming. Our meal is listed below In order of what we liked best. I got photos of all but one of the dishes. If you like informal food adventures, go here!! 1. Earl Grey Creme Brûlée 2. Chicken skewers on toast with peppers and leeks - we had seconds 3. Calamari with broccoli 3. Octopus - cold with celery and red peppers, capers and red onion. No photo 4. Fried shrimp with wasabi tartar sauce 5. Sea scallop carpaccio with saffron sauce”\n",
    "Output: Reference to other reviews\n",
    "\n",
    "Input: “Not sure if I understand the hype. Meatballs were ok Sauce was bland Bread was good Mozz was bland The staff outnumbers the tables Service was good but it was more of a hangout for the employees I guess the concept worked because they seem to be doing great I'm just not a fan..”\n",
    "Output: Reference to other reviews\n",
    "\n",
    "Input: “Food was deee-lish here!   Came here to celebrate a friends birthday last night (Friday). We had such a great time! We made reservations for 10:00pm (you will not be seated until your entire party arrives) we were seated right away. This place is hip. Greatttt DJ had a mix of everything (latin music bachata,merengue,reggaeton,techno,hip hop,pop). Had the appetizers family style and yes i have to agree this plate consists of everything being fried but good! lol had the soup sancocho it was ok. the entree. I had the churrasco (skirt steak) with mash potatoes OMG deeee lish! we ordered a pitcher of red sangria due to the high praise for it on here, but i was sadly dissapointed on that part! : (  wasn't sweet at all! a bit strong.The desserts were great coconut flan, rum raisin bread pudding, guava cheesecake,and a chocolate coffee mousse cake. The decor was so cute orange cushioned leather on one half of wall and hot pink on the other side and rustic chandeliers all over. There was lounge below we didn't go there but doesnt seem like a spot to dance in only to chill without the food. They also offer doggy bags for your left overs! yeaaaah! Overall great place! :)”\n",
    "Output: Reference to other reviews\n",
    "\n",
    "Input: ”I don't get full from eating at Munchies but they are just for snacks. The service is pretty good. There was one day that they forgot 2 of the orders when I was eating there but that's ok. I was somewhat surprised that tips were already charged within the bill already.”\n",
    "Output: No reference\n",
    "\n",
    "Input: “Great Decor and layout of the restaurant. The place is well kept. As competitors to Nargis and referred by a few clients who said I MUST try it, it was good food! With improvements needed in making sure the flavors are different and not copied, it holds to it own standards. However I must say the first time I came I was denied as there was a party scheduled &amp; they refused to serve walk-ins that day. This second time I went I was able to go in and sit down. Due to the catering options not going on during my 2nd visit. The place was nearly empty. The food came out promptly, the service was standard with limited English language. Not enough welcoming vibes. Lead to my final conclusion, if nargis is booked or when they can&#39;t serve parties, come here for little different and unique food  with a more well decorated place, for bigger events!”\n",
    "Output: No reference\n",
    "\n",
    "Input: “Great bar if you enjoy low lighting and standard atmosphere. I also enjoy that they delete any and all negative reviews. Well done.”\n",
    "Output: No reference\n",
    "\"\"\"\n",
    "\n"
   ]
  },
  {
   "cell_type": "code",
   "execution_count": 13,
   "metadata": {},
   "outputs": [],
   "source": [
    "model = 'gemma3:1b'"
   ]
  },
  {
   "cell_type": "code",
   "execution_count": 25,
   "metadata": {},
   "outputs": [
    {
     "ename": "SyntaxError",
     "evalue": "expected ':' (209247251.py, line 9)",
     "output_type": "error",
     "traceback": [
      "  \u001b[36mCell\u001b[39m\u001b[36m \u001b[39m\u001b[32mIn[25]\u001b[39m\u001b[32m, line 9\u001b[39m\n\u001b[31m    \u001b[39m\u001b[31melse\u001b[39m\n         ^\n\u001b[31mSyntaxError\u001b[39m\u001b[31m:\u001b[39m expected ':'\n"
     ]
    }
   ],
   "source": [
    "def classify_review(review_text):\n",
    "    prompt = initial_prompt + f'\\n\\nInput:\"{review_text}\"\\nOutput:' \n",
    "    response = chat(model=model, messages=[{\"role\": \"user\", \"content\": prompt}])\n",
    "    response = response[\"message\"][\"content\"].strip()\n",
    "    if response == \"Reference to other reviews\":\n",
    "        return 1\n",
    "    elif response == \"No reference\":\n",
    "        return 0\n",
    "    else: \n",
    "        return 2"
   ]
  },
  {
   "cell_type": "code",
   "execution_count": 23,
   "metadata": {},
   "outputs": [
    {
     "name": "stderr",
     "output_type": "stream",
     "text": [
      "100%|██████████| 100/100 [03:57<00:00,  2.38s/it]\n",
      "/tmp/ipykernel_20186/3675128381.py:2: SettingWithCopyWarning: \n",
      "A value is trying to be set on a copy of a slice from a DataFrame.\n",
      "Try using .loc[row_indexer,col_indexer] = value instead\n",
      "\n",
      "See the caveats in the documentation: https://pandas.pydata.org/pandas-docs/stable/user_guide/indexing.html#returning-a-view-versus-a-copy\n",
      "  review[\"predicition\"] = review[\"review_text\"].progress_apply(classify_review)\n"
     ]
    }
   ],
   "source": [
    "tqdm.pandas()\n",
    "review[\"predicition\"] = review[\"review_text\"].progress_apply(classify_review)"
   ]
  },
  {
   "cell_type": "code",
   "execution_count": 24,
   "metadata": {},
   "outputs": [
    {
     "data": {
      "text/html": [
       "<div>\n",
       "<style scoped>\n",
       "    .dataframe tbody tr th:only-of-type {\n",
       "        vertical-align: middle;\n",
       "    }\n",
       "\n",
       "    .dataframe tbody tr th {\n",
       "        vertical-align: top;\n",
       "    }\n",
       "\n",
       "    .dataframe thead th {\n",
       "        text-align: right;\n",
       "    }\n",
       "</style>\n",
       "<table border=\"1\" class=\"dataframe\">\n",
       "  <thead>\n",
       "    <tr style=\"text-align: right;\">\n",
       "      <th></th>\n",
       "      <th>review_text</th>\n",
       "      <th>has_references</th>\n",
       "      <th>predicition</th>\n",
       "    </tr>\n",
       "  </thead>\n",
       "  <tbody>\n",
       "    <tr>\n",
       "      <th>0</th>\n",
       "      <td>Tried take out since this is only 5 star sushi...</td>\n",
       "      <td>1</td>\n",
       "      <td>Reference to other reviews</td>\n",
       "    </tr>\n",
       "    <tr>\n",
       "      <th>1</th>\n",
       "      <td>It&amp;#39;s very hard to beat brunch at High Stre...</td>\n",
       "      <td>0</td>\n",
       "      <td>Reference to other reviews</td>\n",
       "    </tr>\n",
       "    <tr>\n",
       "      <th>2</th>\n",
       "      <td>Scale of 1-10: Food: 7 Service: 9 Atmosphere: ...</td>\n",
       "      <td>0</td>\n",
       "      <td>No reference</td>\n",
       "    </tr>\n",
       "    <tr>\n",
       "      <th>3</th>\n",
       "      <td>Went here on a lunch break.  It was 100 degree...</td>\n",
       "      <td>0</td>\n",
       "      <td>No reference</td>\n",
       "    </tr>\n",
       "    <tr>\n",
       "      <th>4</th>\n",
       "      <td>I got the chicken sandwich platter. Asked them...</td>\n",
       "      <td>0</td>\n",
       "      <td>Reference to other reviews</td>\n",
       "    </tr>\n",
       "  </tbody>\n",
       "</table>\n",
       "</div>"
      ],
      "text/plain": [
       "                                         review_text  has_references  \\\n",
       "0  Tried take out since this is only 5 star sushi...               1   \n",
       "1  It&#39;s very hard to beat brunch at High Stre...               0   \n",
       "2  Scale of 1-10: Food: 7 Service: 9 Atmosphere: ...               0   \n",
       "3  Went here on a lunch break.  It was 100 degree...               0   \n",
       "4  I got the chicken sandwich platter. Asked them...               0   \n",
       "\n",
       "                  predicition  \n",
       "0  Reference to other reviews  \n",
       "1  Reference to other reviews  \n",
       "2                No reference  \n",
       "3                No reference  \n",
       "4  Reference to other reviews  "
      ]
     },
     "execution_count": 24,
     "metadata": {},
     "output_type": "execute_result"
    }
   ],
   "source": [
    "review.head()"
   ]
  }
 ],
 "metadata": {
  "kernelspec": {
   "display_name": ".venv",
   "language": "python",
   "name": "python3"
  },
  "language_info": {
   "codemirror_mode": {
    "name": "ipython",
    "version": 3
   },
   "file_extension": ".py",
   "mimetype": "text/x-python",
   "name": "python",
   "nbconvert_exporter": "python",
   "pygments_lexer": "ipython3",
   "version": "3.12.8"
  }
 },
 "nbformat": 4,
 "nbformat_minor": 2
}
