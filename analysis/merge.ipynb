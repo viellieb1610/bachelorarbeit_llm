{
 "cells": [
  {
   "cell_type": "code",
   "id": "initial_id",
   "metadata": {
    "collapsed": true,
    "ExecuteTime": {
     "end_time": "2025-05-16T14:00:50.292375Z",
     "start_time": "2025-05-16T14:00:50.289350Z"
    }
   },
   "source": [
    "import pandas as pd\n",
    "import os\n",
    "import glob"
   ],
   "outputs": [],
   "execution_count": 1
  },
  {
   "metadata": {
    "ExecuteTime": {
     "end_time": "2025-05-14T12:04:27.665894Z",
     "start_time": "2025-05-14T12:03:53.213995Z"
    }
   },
   "cell_type": "code",
   "source": [
    "all_files = glob.glob(\"../data/to_merge/*.csv\")\n",
    "\n",
    "df_list = []\n",
    "\n",
    "for file in all_files:\n",
    "    df = pd.read_csv(file)\n",
    "    df['date'] = pd.to_datetime(df['date'])\n",
    "    df_list.append(df)\n",
    "\n",
    "merged_df = pd.concat(df_list, ignore_index=True)\n",
    "\n",
    "merged_df.to_csv(\"../data/yelp_merged.csv\", index=False)"
   ],
   "id": "895b87556f603d9a",
   "outputs": [],
   "execution_count": 4
  },
  {
   "metadata": {
    "ExecuteTime": {
     "end_time": "2025-05-16T14:01:04.924177Z",
     "start_time": "2025-05-16T14:00:54.109952Z"
    }
   },
   "cell_type": "code",
   "source": [
    "all_files = glob.glob(\"../data/to_merge_imdb/*.csv\")\n",
    "\n",
    "df_list = []\n",
    "\n",
    "for file in all_files:\n",
    "    df = pd.read_csv(file)\n",
    "    # df['date'] = pd.to_datetime(df['date'])\n",
    "    df_list.append(df)\n",
    "\n",
    "merged_df = pd.concat(df_list, ignore_index=True)\n",
    "\n",
    "merged_df.to_csv(\"../data/imdb_merged.csv\", index=False)"
   ],
   "id": "c2cc5cbc12f1b7a5",
   "outputs": [],
   "execution_count": 2
  },
  {
   "metadata": {
    "ExecuteTime": {
     "end_time": "2025-05-12T15:22:20.465238Z",
     "start_time": "2025-05-12T15:21:36.253741Z"
    }
   },
   "cell_type": "code",
   "source": "yelp_classification = pd.read_csv(\"../data/yelp_for_classification.csv\")",
   "id": "25fed41da81d6c2b",
   "outputs": [],
   "execution_count": 4
  },
  {
   "metadata": {},
   "cell_type": "markdown",
   "source": "# imdb random set",
   "id": "4fc8980c3dda95c"
  },
  {
   "metadata": {
    "ExecuteTime": {
     "end_time": "2025-05-15T09:31:43.477908Z",
     "start_time": "2025-05-15T09:31:18.859061Z"
    }
   },
   "cell_type": "code",
   "source": "imdb = pd.read_csv(r\"C:\\Users\\Philipp\\Meine Ablage\\2_Universität\\Wirtschaftsinformatik\\7. Semester\\Bachelorarbeit (Bandwagon Effect)\\Daten\\Classify\\imdb_for_classification.csv\")",
   "id": "d28716167653af29",
   "outputs": [],
   "execution_count": 3
  },
  {
   "metadata": {
    "ExecuteTime": {
     "end_time": "2025-05-15T09:34:31.637204Z",
     "start_time": "2025-05-15T09:33:44.746303Z"
    }
   },
   "cell_type": "code",
   "source": "imdb.dropna(inplace=True)",
   "id": "f588d0fd7a65bc34",
   "outputs": [],
   "execution_count": 8
  },
  {
   "metadata": {
    "ExecuteTime": {
     "end_time": "2025-05-15T09:34:36.830551Z",
     "start_time": "2025-05-15T09:34:35.734768Z"
    }
   },
   "cell_type": "code",
   "source": "imdb = imdb.sample(frac=1, random_state=42)",
   "id": "ad4ae124d6564421",
   "outputs": [],
   "execution_count": 9
  },
  {
   "metadata": {
    "ExecuteTime": {
     "end_time": "2025-05-15T09:34:47.281576Z",
     "start_time": "2025-05-15T09:34:47.270892Z"
    }
   },
   "cell_type": "code",
   "source": "imdb.head()",
   "id": "17afe3eb80255d48",
   "outputs": [
    {
     "data": {
      "text/plain": [
       "         index_prev        date             user                      item  \\\n",
       "1464441     1464441  2017-09-20            jkelt            Mother! (2017)   \n",
       "1350354     1350354  2016-05-22       bkoganbing         Nancy Drew (2007)   \n",
       "1863188     1863188  2020-11-30        ggeorge-4        August Rush (2007)   \n",
       "600426       600426  2006-03-23  darklordofmetal  Detroit Rock City (1999)   \n",
       "1467959     1467959  2017-10-04      agro_sydney      The Dead Zone (1983)   \n",
       "\n",
       "         review_rating                                        review_text  \\\n",
       "1464441            7.0  ******Here Be Spoilers!*******I enjoyed \"Mothe...   \n",
       "1350354            6.0  Stepping into the shoes of Bonita Granville, P...   \n",
       "1863188            9.0  I miss seeing this. It is my all-time favorite...   \n",
       "600426            10.0  This Movie is WICKED! WHAT A GREAT MOVIE! If y...   \n",
       "1467959            9.0  One of my all time favorite films, Stephen Kin...   \n",
       "\n",
       "         review_length  bandwagon  \n",
       "1464441            569          0  \n",
       "1350354            214          0  \n",
       "1863188             22          0  \n",
       "600426             188          0  \n",
       "1467959            117          0  "
      ],
      "text/html": [
       "<div>\n",
       "<style scoped>\n",
       "    .dataframe tbody tr th:only-of-type {\n",
       "        vertical-align: middle;\n",
       "    }\n",
       "\n",
       "    .dataframe tbody tr th {\n",
       "        vertical-align: top;\n",
       "    }\n",
       "\n",
       "    .dataframe thead th {\n",
       "        text-align: right;\n",
       "    }\n",
       "</style>\n",
       "<table border=\"1\" class=\"dataframe\">\n",
       "  <thead>\n",
       "    <tr style=\"text-align: right;\">\n",
       "      <th></th>\n",
       "      <th>index_prev</th>\n",
       "      <th>date</th>\n",
       "      <th>user</th>\n",
       "      <th>item</th>\n",
       "      <th>review_rating</th>\n",
       "      <th>review_text</th>\n",
       "      <th>review_length</th>\n",
       "      <th>bandwagon</th>\n",
       "    </tr>\n",
       "  </thead>\n",
       "  <tbody>\n",
       "    <tr>\n",
       "      <th>1464441</th>\n",
       "      <td>1464441</td>\n",
       "      <td>2017-09-20</td>\n",
       "      <td>jkelt</td>\n",
       "      <td>Mother! (2017)</td>\n",
       "      <td>7.0</td>\n",
       "      <td>******Here Be Spoilers!*******I enjoyed \"Mothe...</td>\n",
       "      <td>569</td>\n",
       "      <td>0</td>\n",
       "    </tr>\n",
       "    <tr>\n",
       "      <th>1350354</th>\n",
       "      <td>1350354</td>\n",
       "      <td>2016-05-22</td>\n",
       "      <td>bkoganbing</td>\n",
       "      <td>Nancy Drew (2007)</td>\n",
       "      <td>6.0</td>\n",
       "      <td>Stepping into the shoes of Bonita Granville, P...</td>\n",
       "      <td>214</td>\n",
       "      <td>0</td>\n",
       "    </tr>\n",
       "    <tr>\n",
       "      <th>1863188</th>\n",
       "      <td>1863188</td>\n",
       "      <td>2020-11-30</td>\n",
       "      <td>ggeorge-4</td>\n",
       "      <td>August Rush (2007)</td>\n",
       "      <td>9.0</td>\n",
       "      <td>I miss seeing this. It is my all-time favorite...</td>\n",
       "      <td>22</td>\n",
       "      <td>0</td>\n",
       "    </tr>\n",
       "    <tr>\n",
       "      <th>600426</th>\n",
       "      <td>600426</td>\n",
       "      <td>2006-03-23</td>\n",
       "      <td>darklordofmetal</td>\n",
       "      <td>Detroit Rock City (1999)</td>\n",
       "      <td>10.0</td>\n",
       "      <td>This Movie is WICKED! WHAT A GREAT MOVIE! If y...</td>\n",
       "      <td>188</td>\n",
       "      <td>0</td>\n",
       "    </tr>\n",
       "    <tr>\n",
       "      <th>1467959</th>\n",
       "      <td>1467959</td>\n",
       "      <td>2017-10-04</td>\n",
       "      <td>agro_sydney</td>\n",
       "      <td>The Dead Zone (1983)</td>\n",
       "      <td>9.0</td>\n",
       "      <td>One of my all time favorite films, Stephen Kin...</td>\n",
       "      <td>117</td>\n",
       "      <td>0</td>\n",
       "    </tr>\n",
       "  </tbody>\n",
       "</table>\n",
       "</div>"
      ]
     },
     "execution_count": 12,
     "metadata": {},
     "output_type": "execute_result"
    }
   ],
   "execution_count": 12
  },
  {
   "metadata": {
    "ExecuteTime": {
     "end_time": "2025-05-15T09:34:44.869515Z",
     "start_time": "2025-05-15T09:34:44.838385Z"
    }
   },
   "cell_type": "code",
   "source": "imdb.rename(columns={'Unnamed: 0':'index_prev'}, inplace=True)",
   "id": "9e3720a565abe1e2",
   "outputs": [],
   "execution_count": 11
  },
  {
   "metadata": {
    "ExecuteTime": {
     "end_time": "2025-05-15T09:37:46.295774Z",
     "start_time": "2025-05-15T09:35:00.237686Z"
    }
   },
   "cell_type": "code",
   "source": "imdb.to_csv(r\"C:\\Users\\Philipp\\Desktop\\imdb_for_classification_shuffle2.csv\", index=False)",
   "id": "8c55310a5f3771e",
   "outputs": [],
   "execution_count": 13
  },
  {
   "metadata": {},
   "cell_type": "markdown",
   "source": "# all imdb",
   "id": "155e97811c0a1a6e"
  },
  {
   "metadata": {
    "ExecuteTime": {
     "end_time": "2025-05-16T14:17:32.692486Z",
     "start_time": "2025-05-16T14:17:04.348789Z"
    }
   },
   "cell_type": "code",
   "source": "imdb_all_not_pred = pd.read_csv(r\"C:\\Users\\Philipp\\Desktop\\imdb_for_classification_shuffle2.csv\")",
   "id": "5e51ce54df14af3c",
   "outputs": [],
   "execution_count": 3
  },
  {
   "metadata": {
    "ExecuteTime": {
     "end_time": "2025-05-16T12:56:00.677866Z",
     "start_time": "2025-05-16T12:56:00.659726Z"
    }
   },
   "cell_type": "code",
   "source": "imdb_all_not_pred.tail()",
   "id": "cd3131029e7f6dab",
   "outputs": [
    {
     "data": {
      "text/plain": [
       "        index_prev        date                user  \\\n",
       "21921      1876991  2021-01-08            xtasissw   \n",
       "628131     1877292  2021-01-08      tirza_reinders   \n",
       "579694     1877318  2021-01-08  freddieyoung-90957   \n",
       "867453     1877104  2021-01-08        amanbirsingh   \n",
       "639718     1877154  2021-01-08       butskhrikidze   \n",
       "\n",
       "                                                     item  review_rating  \\\n",
       "21921                                     Room (I) (2015)            9.0   \n",
       "628131  Pirates of the Caribbean: Dead Men Tell No Tal...            6.0   \n",
       "579694                         Requiem for a Dream (2000)           10.0   \n",
       "867453                                          42 (2013)            7.0   \n",
       "639718                                  Timecrimes (2007)            4.0   \n",
       "\n",
       "        review_length  bandwagon  \n",
       "21921              54          0  \n",
       "628131             55          0  \n",
       "579694            118          0  \n",
       "867453            211          0  \n",
       "639718             83          0  "
      ],
      "text/html": [
       "<div>\n",
       "<style scoped>\n",
       "    .dataframe tbody tr th:only-of-type {\n",
       "        vertical-align: middle;\n",
       "    }\n",
       "\n",
       "    .dataframe tbody tr th {\n",
       "        vertical-align: top;\n",
       "    }\n",
       "\n",
       "    .dataframe thead th {\n",
       "        text-align: right;\n",
       "    }\n",
       "</style>\n",
       "<table border=\"1\" class=\"dataframe\">\n",
       "  <thead>\n",
       "    <tr style=\"text-align: right;\">\n",
       "      <th></th>\n",
       "      <th>index_prev</th>\n",
       "      <th>date</th>\n",
       "      <th>user</th>\n",
       "      <th>item</th>\n",
       "      <th>review_rating</th>\n",
       "      <th>review_length</th>\n",
       "      <th>bandwagon</th>\n",
       "    </tr>\n",
       "  </thead>\n",
       "  <tbody>\n",
       "    <tr>\n",
       "      <th>21921</th>\n",
       "      <td>1876991</td>\n",
       "      <td>2021-01-08</td>\n",
       "      <td>xtasissw</td>\n",
       "      <td>Room (I) (2015)</td>\n",
       "      <td>9.0</td>\n",
       "      <td>54</td>\n",
       "      <td>0</td>\n",
       "    </tr>\n",
       "    <tr>\n",
       "      <th>628131</th>\n",
       "      <td>1877292</td>\n",
       "      <td>2021-01-08</td>\n",
       "      <td>tirza_reinders</td>\n",
       "      <td>Pirates of the Caribbean: Dead Men Tell No Tal...</td>\n",
       "      <td>6.0</td>\n",
       "      <td>55</td>\n",
       "      <td>0</td>\n",
       "    </tr>\n",
       "    <tr>\n",
       "      <th>579694</th>\n",
       "      <td>1877318</td>\n",
       "      <td>2021-01-08</td>\n",
       "      <td>freddieyoung-90957</td>\n",
       "      <td>Requiem for a Dream (2000)</td>\n",
       "      <td>10.0</td>\n",
       "      <td>118</td>\n",
       "      <td>0</td>\n",
       "    </tr>\n",
       "    <tr>\n",
       "      <th>867453</th>\n",
       "      <td>1877104</td>\n",
       "      <td>2021-01-08</td>\n",
       "      <td>amanbirsingh</td>\n",
       "      <td>42 (2013)</td>\n",
       "      <td>7.0</td>\n",
       "      <td>211</td>\n",
       "      <td>0</td>\n",
       "    </tr>\n",
       "    <tr>\n",
       "      <th>639718</th>\n",
       "      <td>1877154</td>\n",
       "      <td>2021-01-08</td>\n",
       "      <td>butskhrikidze</td>\n",
       "      <td>Timecrimes (2007)</td>\n",
       "      <td>4.0</td>\n",
       "      <td>83</td>\n",
       "      <td>0</td>\n",
       "    </tr>\n",
       "  </tbody>\n",
       "</table>\n",
       "</div>"
      ]
     },
     "execution_count": 9,
     "metadata": {},
     "output_type": "execute_result"
    }
   ],
   "execution_count": 9
  },
  {
   "metadata": {
    "ExecuteTime": {
     "end_time": "2025-05-16T14:18:17.505327Z",
     "start_time": "2025-05-16T14:18:16.669955Z"
    }
   },
   "cell_type": "code",
   "source": "imdb_all_not_pred.drop(columns=['review_text'], inplace=True)",
   "id": "49ec5131f1bba981",
   "outputs": [],
   "execution_count": 4
  },
  {
   "metadata": {
    "ExecuteTime": {
     "end_time": "2025-05-16T12:55:55.411217Z",
     "start_time": "2025-05-16T12:55:52.337625Z"
    }
   },
   "cell_type": "code",
   "source": "imdb_all_not_pred.sort_values(by='date', inplace=True)",
   "id": "1fa16e2bb3157b28",
   "outputs": [],
   "execution_count": 7
  },
  {
   "metadata": {
    "ExecuteTime": {
     "end_time": "2025-05-16T14:18:22.925138Z",
     "start_time": "2025-05-16T14:18:18.769501Z"
    }
   },
   "cell_type": "code",
   "source": "imdb_all_not_pred.to_csv(\"../data/imdb_all_not_pred.csv\", index=False)",
   "id": "5b28800a15b01b89",
   "outputs": [],
   "execution_count": 5
  }
 ],
 "metadata": {
  "kernelspec": {
   "display_name": "Python 3",
   "language": "python",
   "name": "python3"
  },
  "language_info": {
   "codemirror_mode": {
    "name": "ipython",
    "version": 2
   },
   "file_extension": ".py",
   "mimetype": "text/x-python",
   "name": "python",
   "nbconvert_exporter": "python",
   "pygments_lexer": "ipython2",
   "version": "2.7.6"
  }
 },
 "nbformat": 4,
 "nbformat_minor": 5
}
